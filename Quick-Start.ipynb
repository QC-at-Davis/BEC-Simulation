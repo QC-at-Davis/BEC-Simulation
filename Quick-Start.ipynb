{
 "cells": [
  {
   "cell_type": "code",
   "execution_count": 1,
   "id": "a544d818-75b6-4fd8-8ab6-315f6680a733",
   "metadata": {},
   "outputs": [],
   "source": [
    "import trottersuzuki as ts"
   ]
  },
  {
   "cell_type": "code",
   "execution_count": 2,
   "id": "e1d9f779-d25b-40c8-b7c0-cd4e01a26904",
   "metadata": {},
   "outputs": [],
   "source": [
    "# square lattice of 300x300 \"nodes\" with physical area of 20x20\n",
    "grid = ts.Lattice2D(300, 20.)"
   ]
  },
  {
   "cell_type": "code",
   "execution_count": 3,
   "id": "dac86e25-d6e5-4c6f-aba6-246d04e23663",
   "metadata": {},
   "outputs": [],
   "source": [
    "# define the potential (doesn't seem to be any time evolution going on here)\n",
    "def harmonic_potential(x,y):\n",
    "    return 0.5 * (x**2 + y**2)"
   ]
  },
  {
   "cell_type": "code",
   "execution_count": 4,
   "id": "2f590195-3a8e-44d4-b197-168614609100",
   "metadata": {},
   "outputs": [],
   "source": [
    "potential = ts.Potential(grid)  # Create the potential object\n",
    "potential.init_potential(harmonic_potential)  # Initialize it using a python function"
   ]
  },
  {
   "cell_type": "code",
   "execution_count": 5,
   "id": "45385e72-1228-49f9-bc6e-b0a8ff6d128e",
   "metadata": {},
   "outputs": [],
   "source": [
    "omegax = omegay = 1.\n",
    "harmonicpotential = ts.HarmonicPotential(grid, omegax, omegay)"
   ]
  },
  {
   "cell_type": "code",
   "execution_count": 6,
   "id": "10e8f8a4-9353-442f-a7be-f1a9c7fa6ea8",
   "metadata": {},
   "outputs": [],
   "source": [
    "particle_mass = 1. # Mass of the particle\n",
    "hamiltonian = ts.Hamiltonian(grid, potential, particle_mass)  # Create the Hamiltonian object"
   ]
  },
  {
   "cell_type": "code",
   "execution_count": 7,
   "id": "6530c7f9-7d99-4d04-ad21-81a8a4a54dc5",
   "metadata": {},
   "outputs": [],
   "source": [
    "import numpy as np  # Import the module numpy for the exponential and sqrt functions\n",
    "\n",
    "def state_wave_function(x,y):  # Wave function\n",
    "    return np.exp(-0.5*(x**2 + y**2)) / np.sqrt(np.pi)\n",
    "\n",
    "state = ts.State(grid)  # Create the quantum state\n",
    "state.init_state(state_wave_function)  # Initialize the state"
   ]
  },
  {
   "cell_type": "code",
   "execution_count": 8,
   "id": "e0ed8266-7cd9-422e-8afe-1917bc72ae0e",
   "metadata": {},
   "outputs": [],
   "source": [
    "omega = 1.\n",
    "gaussianstate = ts.GaussianState(grid, omega)  # Create a quantum state whose wave function is Gaussian-like"
   ]
  },
  {
   "cell_type": "code",
   "execution_count": 9,
   "id": "abe2f20b-921d-4fe7-8e2a-d05b2fcbd693",
   "metadata": {},
   "outputs": [],
   "source": [
    "delta_t = 1e-3  # Physical time of a single iteration\n",
    "solver = ts.Solver(grid, state, hamiltonian, delta_t)  # Creating the solver object\n",
    "# delta_t = 1e-3  # Physical time of a single iteration\n",
    "# solver = ts.Solver(grid, state, hamiltonian, delta_t, kernel_type=\"gpu\")"
   ]
  },
  {
   "cell_type": "code",
   "execution_count": 10,
   "id": "27b46596-5ea8-4370-937a-504378fa0462",
   "metadata": {},
   "outputs": [],
   "source": [
    "iterations = 100  # Number of iterations to be performed\n",
    "\n",
    "#https://physics.stackexchange.com/questions/58183/difference-between-real-time-and-imaginary-time-propagation\n",
    "\n",
    "solver.evolve(iterations, True)  # Perform imaginary-time evolution\n",
    "# GOOD FOR FINDING GROUND STATE\n",
    "\n",
    "solver.evolve(iterations)  # Perform real-time evolution\n",
    "# GOOD FOR REAL TIME DYNAMICS"
   ]
  },
  {
   "cell_type": "code",
   "execution_count": 11,
   "id": "8a14836f-92ca-4a63-b3e5-6f2d05ed80df",
   "metadata": {},
   "outputs": [
    {
     "name": "stdout",
     "output_type": "stream",
     "text": [
      "1.001464569509806\n"
     ]
    }
   ],
   "source": [
    "tot_energy = solver.get_total_energy()\n",
    "print(tot_energy)"
   ]
  },
  {
   "cell_type": "code",
   "execution_count": 12,
   "id": "9ef57922-e7db-4290-8533-558537c7a472",
   "metadata": {},
   "outputs": [
    {
     "name": "stdout",
     "output_type": "stream",
     "text": [
      "5.284416762350058e-17\n"
     ]
    }
   ],
   "source": [
    "# Cennter of grid is 0, and this value is pretty much near zero,\n",
    "# so this must be at the center\n",
    "mean_x = state.get_mean_x()  # Get the expected value of X operator\n",
    "print(mean_x)"
   ]
  },
  {
   "cell_type": "code",
   "execution_count": 13,
   "id": "90948066-5b57-476a-ae63-ff14b134dbbc",
   "metadata": {},
   "outputs": [
    {
     "name": "stdout",
     "output_type": "stream",
     "text": [
      "1.0000000000000278\n"
     ]
    }
   ],
   "source": [
    "snorm = state.get_squared_norm()\n",
    "print(snorm)"
   ]
  },
  {
   "cell_type": "code",
   "execution_count": 14,
   "id": "94b50eb1-7f94-478a-a14c-b7100688eaf9",
   "metadata": {},
   "outputs": [],
   "source": [
    "# Imprinting, equivalent to f(x,y)psi(x,y) where f(x,y) \\in Complex\n",
    "def vortex(x, y):  # Function defining a vortex\n",
    "    z = x + 1j*y\n",
    "    angle = np.angle(z)\n",
    "    return np.exp(1j * angle)\n",
    "\n",
    "state.imprint(vortex)  # Imprint the vortex on the state"
   ]
  },
  {
   "cell_type": "code",
   "execution_count": null,
   "id": "1ced14e5-5ef6-4a11-92e9-33ae5418e85c",
   "metadata": {},
   "outputs": [],
   "source": []
  }
 ],
 "metadata": {
  "kernelspec": {
   "display_name": "Python 3",
   "language": "python",
   "name": "python3"
  },
  "language_info": {
   "codemirror_mode": {
    "name": "ipython",
    "version": 3
   },
   "file_extension": ".py",
   "mimetype": "text/x-python",
   "name": "python",
   "nbconvert_exporter": "python",
   "pygments_lexer": "ipython3",
   "version": "3.9.7"
  }
 },
 "nbformat": 4,
 "nbformat_minor": 5
}
